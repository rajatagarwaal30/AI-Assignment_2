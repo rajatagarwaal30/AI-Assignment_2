{
 "cells": [
  {
   "cell_type": "code",
   "execution_count": 4,
   "metadata": {},
   "outputs": [],
   "source": [
    "def depth_first_search(grph, start):\n",
    "    x = [start]\n",
    "    path = []\n",
    "    \n",
    "    while x:\n",
    "        vert = x.pop()\n",
    "        if vert in path:\n",
    "            continue\n",
    "        path.append(vert)\n",
    "        for neighbours in grph[vert]:\n",
    "            x.append(neighbours)\n",
    "    return path"
   ]
  },
  {
   "cell_type": "code",
   "execution_count": 5,
   "metadata": {},
   "outputs": [],
   "source": [
    "matrix = {1 : [8,14],\n",
    "         3 : [51,6,9],\n",
    "         6 : [3,8,51,57],\n",
    "         8 : [1,6,9,42],\n",
    "         9 : [3,8],\n",
    "         14 : [1,97],\n",
    "         42 : [],\n",
    "         51 : [3,6],\n",
    "         57 : [],\n",
    "         97 : []}"
   ]
  },
  {
   "cell_type": "code",
   "execution_count": 6,
   "metadata": {},
   "outputs": [
    {
     "name": "stdout",
     "output_type": "stream",
     "text": [
      "[1, 14, 97, 8, 42, 9, 3, 6, 57, 51]\n"
     ]
    }
   ],
   "source": [
    "print(depth_first_search(matrix,1))"
   ]
  },
  {
   "cell_type": "code",
   "execution_count": null,
   "metadata": {},
   "outputs": [],
   "source": []
  },
  {
   "cell_type": "code",
   "execution_count": null,
   "metadata": {},
   "outputs": [],
   "source": []
  }
 ],
 "metadata": {
  "kernelspec": {
   "display_name": "Python 3",
   "language": "python",
   "name": "python3"
  },
  "language_info": {
   "codemirror_mode": {
    "name": "ipython",
    "version": 3
   },
   "file_extension": ".py",
   "mimetype": "text/x-python",
   "name": "python",
   "nbconvert_exporter": "python",
   "pygments_lexer": "ipython3",
   "version": "3.7.0"
  }
 },
 "nbformat": 4,
 "nbformat_minor": 2
}
