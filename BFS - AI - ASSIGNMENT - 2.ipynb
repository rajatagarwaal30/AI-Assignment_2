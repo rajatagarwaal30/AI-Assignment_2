{
 "cells": [
  {
   "cell_type": "code",
   "execution_count": 13,
   "metadata": {},
   "outputs": [],
   "source": [
    "graph_weights = {1 : [8,14],\n",
    "         3 : [51,6,9],\n",
    "         6 : [3,8,51,57],\n",
    "         8 : [1,6,9,42],\n",
    "         9 : [3,8],\n",
    "         14 : [1,97],\n",
    "         42 : [],\n",
    "         51 : [3,6],\n",
    "         57 : [],\n",
    "         97 : []}"
   ]
  },
  {
   "cell_type": "code",
   "execution_count": 14,
   "metadata": {},
   "outputs": [],
   "source": [
    "def breadth_first_search(graph_weights,start):\n",
    "    visit = []\n",
    "    queue_bfs = [start]\n",
    "    while queue_bfs:\n",
    "        node_bfs = queue_bfs.pop(0)\n",
    "        if node_bfs not in visit:\n",
    "            visit.append(node_bfs)\n",
    "            neighbour = graph_weights[node_bfs]\n",
    "            for neighbours in neighbour:\n",
    "                queue_bfs.append(neighbours)\n",
    "    return visit"
   ]
  },
  {
   "cell_type": "code",
   "execution_count": 15,
   "metadata": {},
   "outputs": [
    {
     "data": {
      "text/plain": [
       "[1, 8, 14, 6, 9, 42, 97, 3, 51, 57]"
      ]
     },
     "execution_count": 15,
     "metadata": {},
     "output_type": "execute_result"
    }
   ],
   "source": [
    "breadth_first_search(graph_weights,1)"
   ]
  },
  {
   "cell_type": "code",
   "execution_count": null,
   "metadata": {},
   "outputs": [],
   "source": []
  },
  {
   "cell_type": "code",
   "execution_count": null,
   "metadata": {},
   "outputs": [],
   "source": []
  }
 ],
 "metadata": {
  "kernelspec": {
   "display_name": "Python 3",
   "language": "python",
   "name": "python3"
  },
  "language_info": {
   "codemirror_mode": {
    "name": "ipython",
    "version": 3
   },
   "file_extension": ".py",
   "mimetype": "text/x-python",
   "name": "python",
   "nbconvert_exporter": "python",
   "pygments_lexer": "ipython3",
   "version": "3.7.0"
  }
 },
 "nbformat": 4,
 "nbformat_minor": 2
}
